{
  "nbformat": 4,
  "nbformat_minor": 0,
  "metadata": {
    "colab": {
      "name": "Project.ipynb",
      "provenance": [],
      "collapsed_sections": [],
      "mount_file_id": "1LLsSJIlh20UffhR4aAk-0JCMSFlkKXKq",
      "authorship_tag": "ABX9TyOPAMe7g83xSBhEh4mwi/fZ",
      "include_colab_link": true
    },
    "kernelspec": {
      "name": "python3",
      "display_name": "Python 3"
    },
    "language_info": {
      "name": "python"
    }
  },
  "cells": [
    {
      "cell_type": "markdown",
      "metadata": {
        "id": "view-in-github",
        "colab_type": "text"
      },
      "source": [
        "<a href=\"https://colab.research.google.com/github/sharvariK-11/Project-NLP/blob/main/Project.ipynb\" target=\"_parent\"><img src=\"https://colab.research.google.com/assets/colab-badge.svg\" alt=\"Open In Colab\"/></a>"
      ]
    },
    {
      "cell_type": "code",
      "metadata": {
        "colab": {
          "base_uri": "https://localhost:8080/"
        },
        "id": "RaFuG6HGK86G",
        "outputId": "f6c1a895-f8c6-4651-ec19-852d202f5061"
      },
      "source": [
        "!pip install nltk\n",
        "import nltk\n",
        "nltk.download('punkt')\n",
        "nltk.download('stopwords')\n",
        "nltk.download('PorterStem')\n",
        "\n",
        "\n",
        "\n",
        "\n",
        "\n"
      ],
      "execution_count": null,
      "outputs": [
        {
          "output_type": "stream",
          "text": [
            "Requirement already satisfied: nltk in /usr/local/lib/python3.7/dist-packages (3.2.5)\n",
            "Requirement already satisfied: six in /usr/local/lib/python3.7/dist-packages (from nltk) (1.15.0)\n",
            "[nltk_data] Downloading package punkt to /root/nltk_data...\n",
            "[nltk_data]   Package punkt is already up-to-date!\n",
            "[nltk_data] Downloading package stopwords to /root/nltk_data...\n",
            "[nltk_data]   Package stopwords is already up-to-date!\n",
            "[nltk_data] Error loading PorterStem: Package 'PorterStem' not found\n",
            "[nltk_data]     in index\n"
          ],
          "name": "stdout"
        },
        {
          "output_type": "execute_result",
          "data": {
            "text/plain": [
              "False"
            ]
          },
          "metadata": {
            "tags": []
          },
          "execution_count": 578
        }
      ]
    },
    {
      "cell_type": "code",
      "metadata": {
        "id": "Giaieg9-K_xe",
        "colab": {
          "base_uri": "https://localhost:8080/",
          "height": 205
        },
        "outputId": "c5e7fe99-9676-452a-9c05-47ad5ff400bf"
      },
      "source": [
        "import pandas as pd\n",
        "lang = pd.read_csv('/content/drive/MyDrive/dataset SOC project.csv')\n",
        "lang.head()"
      ],
      "execution_count": null,
      "outputs": [
        {
          "output_type": "execute_result",
          "data": {
            "text/html": [
              "<div>\n",
              "<style scoped>\n",
              "    .dataframe tbody tr th:only-of-type {\n",
              "        vertical-align: middle;\n",
              "    }\n",
              "\n",
              "    .dataframe tbody tr th {\n",
              "        vertical-align: top;\n",
              "    }\n",
              "\n",
              "    .dataframe thead th {\n",
              "        text-align: right;\n",
              "    }\n",
              "</style>\n",
              "<table border=\"1\" class=\"dataframe\">\n",
              "  <thead>\n",
              "    <tr style=\"text-align: right;\">\n",
              "      <th></th>\n",
              "      <th>Unnamed: 0</th>\n",
              "      <th>languages</th>\n",
              "      <th>language_type</th>\n",
              "      <th>label</th>\n",
              "    </tr>\n",
              "  </thead>\n",
              "  <tbody>\n",
              "    <tr>\n",
              "      <th>0</th>\n",
              "      <td>0</td>\n",
              "      <td>These questions are easy to answer.</td>\n",
              "      <td>english</td>\n",
              "      <td>0</td>\n",
              "    </tr>\n",
              "    <tr>\n",
              "      <th>1</th>\n",
              "      <td>1</td>\n",
              "      <td>They are proud of their clever son.</td>\n",
              "      <td>english</td>\n",
              "      <td>0</td>\n",
              "    </tr>\n",
              "    <tr>\n",
              "      <th>2</th>\n",
              "      <td>2</td>\n",
              "      <td>They brought trouble on themselves.</td>\n",
              "      <td>english</td>\n",
              "      <td>0</td>\n",
              "    </tr>\n",
              "    <tr>\n",
              "      <th>3</th>\n",
              "      <td>3</td>\n",
              "      <td>This is a good newspaper, isn't it?</td>\n",
              "      <td>english</td>\n",
              "      <td>0</td>\n",
              "    </tr>\n",
              "    <tr>\n",
              "      <th>4</th>\n",
              "      <td>4</td>\n",
              "      <td>To make matters worse, he fell ill.</td>\n",
              "      <td>english</td>\n",
              "      <td>0</td>\n",
              "    </tr>\n",
              "  </tbody>\n",
              "</table>\n",
              "</div>"
            ],
            "text/plain": [
              "   Unnamed: 0                            languages language_type  label \n",
              "0           0  These questions are easy to answer.       english       0\n",
              "1           1  They are proud of their clever son.       english       0\n",
              "2           2  They brought trouble on themselves.       english       0\n",
              "3           3  This is a good newspaper, isn't it?       english       0\n",
              "4           4  To make matters worse, he fell ill.       english       0"
            ]
          },
          "metadata": {
            "tags": []
          },
          "execution_count": 579
        }
      ]
    },
    {
      "cell_type": "markdown",
      "metadata": {
        "id": "lrIeMfa5ALbi"
      },
      "source": [
        "### Data Cleaning and Pre Processing\n"
      ]
    },
    {
      "cell_type": "code",
      "metadata": {
        "id": "_76aglQ3MJfw"
      },
      "source": [
        "import re\n",
        "import nltk\n",
        " \n",
        "from nltk.corpus import stopwords\n",
        "from nltk.stem.porter import PorterStemmer\n",
        "ps = PorterStemmer()\n",
        "corpus = []\n",
        "for i in range(0, len(lang)):\n",
        "    review = re.sub('[^a-zA-Z]', ' ', str(lang['languages'][i]))\n",
        "    review = review.lower()\n",
        "    review = review.split()\n",
        "\n",
        "    review = [ps.stem(word) for word in review]\n",
        "    review = ' '.join(review)\n",
        "    corpus.append(review)"
      ],
      "execution_count": null,
      "outputs": []
    },
    {
      "cell_type": "markdown",
      "metadata": {
        "id": "zwFt4gpB43z_"
      },
      "source": [
        "### BAG OF WORDS"
      ]
    },
    {
      "cell_type": "code",
      "metadata": {
        "id": "p7kJACALNThk"
      },
      "source": [
        "from sklearn.feature_extraction.text import CountVectorizer\n",
        "cv = CountVectorizer(max_features=2500)\n",
        "X = cv.fit_transform(corpus).toarray()\n",
        " \n",
        "y=lang['label ']\n",
        " "
      ],
      "execution_count": null,
      "outputs": []
    },
    {
      "cell_type": "code",
      "metadata": {
        "colab": {
          "base_uri": "https://localhost:8080/"
        },
        "id": "vmKur3_G4E_U",
        "outputId": "8a798a3a-457d-4b74-b2ad-e067630c8d17"
      },
      "source": [
        "y"
      ],
      "execution_count": null,
      "outputs": [
        {
          "output_type": "execute_result",
          "data": {
            "text/plain": [
              "0       0\n",
              "1       0\n",
              "2       0\n",
              "3       0\n",
              "4       0\n",
              "       ..\n",
              "2468    2\n",
              "2469    2\n",
              "2470    2\n",
              "2471    2\n",
              "2472    2\n",
              "Name: label , Length: 2473, dtype: int64"
            ]
          },
          "metadata": {
            "tags": []
          },
          "execution_count": 582
        }
      ]
    },
    {
      "cell_type": "code",
      "metadata": {
        "colab": {
          "base_uri": "https://localhost:8080/"
        },
        "id": "zcy_QPh74FzU",
        "outputId": "20a91172-abf7-4ad7-84c9-e7d65b7936ba"
      },
      "source": [
        "X"
      ],
      "execution_count": null,
      "outputs": [
        {
          "output_type": "execute_result",
          "data": {
            "text/plain": [
              "array([[0, 0, 0, ..., 0, 0, 0],\n",
              "       [0, 0, 0, ..., 0, 0, 0],\n",
              "       [0, 0, 0, ..., 0, 0, 0],\n",
              "       ...,\n",
              "       [0, 0, 0, ..., 0, 0, 0],\n",
              "       [0, 0, 0, ..., 0, 0, 0],\n",
              "       [0, 0, 0, ..., 0, 0, 0]])"
            ]
          },
          "metadata": {
            "tags": []
          },
          "execution_count": 583
        }
      ]
    },
    {
      "cell_type": "code",
      "metadata": {
        "id": "QZUbP5yU5Fig"
      },
      "source": [
        "from sklearn.model_selection import train_test_split\n",
        "X_train, X_test, y_train, y_test = train_test_split(X, y, test_size = 0.20, random_state = 0)\n",
        " \n",
        " \n",
        "from sklearn.naive_bayes import MultinomialNB\n",
        "language_detect_model = MultinomialNB().fit(X_train, y_train)\n",
        " \n",
        "y_pred=language_detect_model.predict(X_test)"
      ],
      "execution_count": null,
      "outputs": []
    },
    {
      "cell_type": "code",
      "metadata": {
        "colab": {
          "base_uri": "https://localhost:8080/"
        },
        "id": "pOif1gUv7gOL",
        "outputId": "7f548361-dcb5-4fac-d9fd-0a07b7487806"
      },
      "source": [
        "y_test"
      ],
      "execution_count": null,
      "outputs": [
        {
          "output_type": "execute_result",
          "data": {
            "text/plain": [
              "2455    2\n",
              "1504    1\n",
              "2127    2\n",
              "1741    1\n",
              "983     1\n",
              "       ..\n",
              "1106    1\n",
              "667     0\n",
              "1516    1\n",
              "1192    1\n",
              "1763    1\n",
              "Name: label , Length: 495, dtype: int64"
            ]
          },
          "metadata": {
            "tags": []
          },
          "execution_count": 585
        }
      ]
    },
    {
      "cell_type": "code",
      "metadata": {
        "colab": {
          "base_uri": "https://localhost:8080/"
        },
        "id": "0xVjdxk57hjf",
        "outputId": "ec002d63-1b5c-440b-f27c-693576d2c9f8"
      },
      "source": [
        "y_pred"
      ],
      "execution_count": null,
      "outputs": [
        {
          "output_type": "execute_result",
          "data": {
            "text/plain": [
              "array([2, 1, 2, 1, 1, 2, 1, 1, 0, 1, 0, 2, 2, 1, 0, 1, 1, 1, 2, 2, 1, 2,\n",
              "       2, 1, 2, 1, 1, 0, 1, 0, 2, 1, 1, 1, 1, 1, 1, 1, 1, 1, 1, 2, 1, 2,\n",
              "       2, 1, 1, 2, 0, 0, 0, 0, 2, 1, 2, 1, 1, 0, 1, 0, 2, 0, 0, 0, 0, 0,\n",
              "       0, 2, 0, 1, 1, 2, 0, 1, 0, 0, 1, 1, 2, 1, 2, 2, 0, 0, 0, 0, 0, 1,\n",
              "       1, 1, 0, 1, 0, 2, 1, 0, 2, 2, 1, 2, 1, 1, 1, 1, 0, 0, 2, 1, 1, 0,\n",
              "       0, 1, 2, 0, 0, 0, 0, 1, 0, 0, 2, 2, 0, 1, 0, 1, 2, 1, 1, 2, 0, 1,\n",
              "       1, 0, 1, 2, 0, 1, 0, 0, 0, 1, 0, 1, 0, 0, 0, 1, 1, 2, 1, 0, 0, 0,\n",
              "       1, 0, 1, 2, 2, 1, 2, 0, 2, 2, 1, 2, 2, 0, 2, 1, 0, 1, 0, 1, 2, 2,\n",
              "       2, 2, 1, 1, 1, 0, 0, 2, 1, 1, 1, 2, 1, 1, 0, 2, 0, 1, 0, 2, 1, 2,\n",
              "       1, 2, 2, 1, 2, 1, 0, 0, 1, 2, 0, 0, 1, 1, 0, 1, 2, 2, 2, 0, 0, 1,\n",
              "       0, 1, 0, 0, 1, 1, 0, 0, 1, 0, 1, 1, 2, 1, 1, 0, 1, 1, 1, 2, 1, 1,\n",
              "       0, 1, 1, 1, 1, 1, 1, 2, 0, 1, 0, 2, 1, 0, 0, 1, 1, 1, 0, 0, 1, 1,\n",
              "       0, 0, 2, 1, 0, 0, 2, 1, 1, 2, 0, 0, 2, 1, 1, 0, 0, 2, 1, 0, 2, 1,\n",
              "       0, 0, 2, 0, 2, 1, 2, 2, 0, 2, 1, 1, 0, 2, 1, 1, 2, 1, 2, 0, 2, 2,\n",
              "       2, 2, 0, 0, 0, 0, 0, 1, 1, 1, 2, 1, 1, 1, 0, 0, 1, 0, 1, 2, 0, 1,\n",
              "       0, 1, 1, 2, 0, 0, 1, 0, 0, 0, 2, 0, 2, 1, 1, 2, 1, 1, 2, 1, 2, 1,\n",
              "       0, 1, 1, 1, 1, 0, 2, 0, 1, 0, 1, 1, 0, 0, 1, 2, 1, 1, 0, 1, 0, 2,\n",
              "       2, 0, 1, 0, 1, 2, 0, 1, 1, 2, 2, 1, 1, 0, 2, 1, 1, 1, 1, 0, 1, 1,\n",
              "       0, 1, 1, 2, 1, 0, 1, 0, 1, 0, 2, 2, 0, 2, 0, 1, 2, 2, 1, 1, 0, 1,\n",
              "       0, 0, 0, 0, 0, 0, 1, 1, 1, 1, 0, 1, 0, 2, 2, 1, 2, 2, 0, 1, 0, 0,\n",
              "       1, 2, 2, 1, 2, 2, 0, 1, 2, 0, 0, 0, 1, 2, 0, 2, 0, 2, 0, 2, 1, 0,\n",
              "       1, 1, 0, 1, 2, 2, 1, 1, 1, 2, 2, 2, 2, 1, 1, 0, 0, 0, 0, 1, 1, 1,\n",
              "       0, 2, 1, 0, 1, 0, 1, 0, 1, 1, 1])"
            ]
          },
          "metadata": {
            "tags": []
          },
          "execution_count": 586
        }
      ]
    },
    {
      "cell_type": "code",
      "metadata": {
        "id": "O-u8CBLs7m66"
      },
      "source": [
        "from sklearn.metrics import accuracy_score\n",
        "accuracy= accuracy_score(y_test,y_pred)"
      ],
      "execution_count": null,
      "outputs": []
    },
    {
      "cell_type": "code",
      "metadata": {
        "colab": {
          "base_uri": "https://localhost:8080/"
        },
        "id": "RiWP8-8v79sg",
        "outputId": "39b4a8bd-bac3-41a2-a9a8-760e2bd1e662"
      },
      "source": [
        "accuracy"
      ],
      "execution_count": null,
      "outputs": [
        {
          "output_type": "execute_result",
          "data": {
            "text/plain": [
              "0.9919191919191919"
            ]
          },
          "metadata": {
            "tags": []
          },
          "execution_count": 588
        }
      ]
    },
    {
      "cell_type": "markdown",
      "metadata": {
        "id": "K9MCIUqHDDP1"
      },
      "source": [
        "### Text Extraction from Image"
      ]
    },
    {
      "cell_type": "code",
      "metadata": {
        "id": "nafcyUxByQfn",
        "colab": {
          "base_uri": "https://localhost:8080/"
        },
        "outputId": "ed11268c-0bc9-4a70-b68e-172516469bc2"
      },
      "source": [
        "!pip install easyocr\n",
        " \n"
      ],
      "execution_count": null,
      "outputs": [
        {
          "output_type": "stream",
          "text": [
            "Requirement already satisfied: easyocr in /usr/local/lib/python3.7/dist-packages (1.3.2)\n",
            "Requirement already satisfied: torch in /usr/local/lib/python3.7/dist-packages (from easyocr) (1.9.0+cu102)\n",
            "Requirement already satisfied: scipy in /usr/local/lib/python3.7/dist-packages (from easyocr) (1.4.1)\n",
            "Requirement already satisfied: numpy in /usr/local/lib/python3.7/dist-packages (from easyocr) (1.19.5)\n",
            "Requirement already satisfied: python-bidi in /usr/local/lib/python3.7/dist-packages (from easyocr) (0.4.2)\n",
            "Requirement already satisfied: scikit-image in /usr/local/lib/python3.7/dist-packages (from easyocr) (0.16.2)\n",
            "Requirement already satisfied: Pillow in /usr/local/lib/python3.7/dist-packages (from easyocr) (7.1.2)\n",
            "Requirement already satisfied: PyYAML in /usr/local/lib/python3.7/dist-packages (from easyocr) (3.13)\n",
            "Requirement already satisfied: opencv-python in /usr/local/lib/python3.7/dist-packages (from easyocr) (4.1.2.30)\n",
            "Requirement already satisfied: torchvision>=0.5 in /usr/local/lib/python3.7/dist-packages (from easyocr) (0.10.0+cu102)\n",
            "Requirement already satisfied: typing-extensions in /usr/local/lib/python3.7/dist-packages (from torch->easyocr) (3.7.4.3)\n",
            "Requirement already satisfied: six in /usr/local/lib/python3.7/dist-packages (from python-bidi->easyocr) (1.15.0)\n",
            "Requirement already satisfied: matplotlib!=3.0.0,>=2.0.0 in /usr/local/lib/python3.7/dist-packages (from scikit-image->easyocr) (3.2.2)\n",
            "Requirement already satisfied: imageio>=2.3.0 in /usr/local/lib/python3.7/dist-packages (from scikit-image->easyocr) (2.4.1)\n",
            "Requirement already satisfied: PyWavelets>=0.4.0 in /usr/local/lib/python3.7/dist-packages (from scikit-image->easyocr) (1.1.1)\n",
            "Requirement already satisfied: networkx>=2.0 in /usr/local/lib/python3.7/dist-packages (from scikit-image->easyocr) (2.5.1)\n",
            "Requirement already satisfied: kiwisolver>=1.0.1 in /usr/local/lib/python3.7/dist-packages (from matplotlib!=3.0.0,>=2.0.0->scikit-image->easyocr) (1.3.1)\n",
            "Requirement already satisfied: cycler>=0.10 in /usr/local/lib/python3.7/dist-packages (from matplotlib!=3.0.0,>=2.0.0->scikit-image->easyocr) (0.10.0)\n",
            "Requirement already satisfied: python-dateutil>=2.1 in /usr/local/lib/python3.7/dist-packages (from matplotlib!=3.0.0,>=2.0.0->scikit-image->easyocr) (2.8.1)\n",
            "Requirement already satisfied: pyparsing!=2.0.4,!=2.1.2,!=2.1.6,>=2.0.1 in /usr/local/lib/python3.7/dist-packages (from matplotlib!=3.0.0,>=2.0.0->scikit-image->easyocr) (2.4.7)\n",
            "Requirement already satisfied: decorator<5,>=4.3 in /usr/local/lib/python3.7/dist-packages (from networkx>=2.0->scikit-image->easyocr) (4.4.2)\n"
          ],
          "name": "stdout"
        }
      ]
    },
    {
      "cell_type": "code",
      "metadata": {
        "id": "MvxxLfuXEGer",
        "colab": {
          "base_uri": "https://localhost:8080/"
        },
        "outputId": "3291fc27-5f78-4f05-af40-326daa42ebe9"
      },
      "source": [
        "import matplotlib.pyplot as plt\n",
        "import cv2\n",
        "import easyocr\n",
        "from pylab import rcParams\n",
        "from IPython.display import Image\n",
        "rcParams['figure.figsize'] = 8,16\n",
        " \n",
        "reader = easyocr.Reader(['en'])\n",
        "def prediction_from_image(input):\n",
        "    \n",
        "    output = reader.readtext(input,detail=0)\n",
        "\n",
        "    sentence=' '.join(output)\n",
        "    vector=cv.transform([sentence]).toarray()\n",
        "    prediction=language_detect_model.predict(vector)\n",
        "    \n",
        "    if prediction[0]==0:\n",
        "     print('English')\n",
        "    elif prediction[0]==1:\n",
        "      print('Hindi')\n",
        "\n",
        "    else:\n",
        "      print('french')\n",
        "\n",
        "\n",
        "    return \n",
        "\n",
        "\n",
        "\n"
      ],
      "execution_count": null,
      "outputs": [
        {
          "output_type": "stream",
          "text": [
            "CUDA not available - defaulting to CPU. Note: This module is much faster with a GPU.\n"
          ],
          "name": "stderr"
        }
      ]
    },
    {
      "cell_type": "code",
      "metadata": {
        "colab": {
          "base_uri": "https://localhost:8080/"
        },
        "id": "Uyw8B7RnTB56",
        "outputId": "4b8c6014-9d44-4b41-a517-be4c92b9d76e"
      },
      "source": [
        "prediction_from_image('/content/drive/MyDrive/Hindi suvichar image.jpg') "
      ],
      "execution_count": null,
      "outputs": [
        {
          "output_type": "stream",
          "text": [
            "Hindi\n"
          ],
          "name": "stdout"
        }
      ]
    },
    {
      "cell_type": "code",
      "metadata": {
        "id": "wkWK-I4LQLR2",
        "colab": {
          "base_uri": "https://localhost:8080/"
        },
        "outputId": "43d08a12-1399-4543-c49e-07e1d0c2811e"
      },
      "source": [
        "prediction_from_image('/content/drive/MyDrive/Your future begins now.jpg') \n",
        " "
      ],
      "execution_count": null,
      "outputs": [
        {
          "output_type": "stream",
          "text": [
            "English\n"
          ],
          "name": "stdout"
        }
      ]
    },
    {
      "cell_type": "code",
      "metadata": {
        "id": "8tX9U0U1OqxW",
        "colab": {
          "base_uri": "https://localhost:8080/"
        },
        "outputId": "44b9dce3-dacc-49d2-da8c-35985633db03"
      },
      "source": [
        "prediction_from_image('/content/drive/MyDrive/Exemple carte Jeu des qualités.jpg') \n",
        " "
      ],
      "execution_count": null,
      "outputs": [
        {
          "output_type": "stream",
          "text": [
            "french\n"
          ],
          "name": "stdout"
        }
      ]
    }
  ]
}